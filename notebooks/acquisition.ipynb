{
 "cells": [
  {
   "cell_type": "markdown",
   "metadata": {},
   "source": [
    "### Data Acquisition"
   ]
  },
  {
   "cell_type": "code",
   "execution_count": 1,
   "metadata": {},
   "outputs": [],
   "source": [
    "#DATA ACQUISITION - DATABASE"
   ]
  },
  {
   "cell_type": "code",
   "execution_count": 1,
   "metadata": {},
   "outputs": [],
   "source": [
    "# all modules\n",
    "import warnings\n",
    "import pandas as pd\n",
    "import requests\n",
    "from bs4 import BeautifulSoup\n",
    "import re\n",
    "from sqlalchemy import inspect, create_engine\n",
    "import sqlsoup"
   ]
  },
  {
   "cell_type": "code",
   "execution_count": 2,
   "metadata": {},
   "outputs": [],
   "source": [
    "%load_ext sql\n",
    "%config SqlMagic.autocommit = False"
   ]
  },
  {
   "cell_type": "code",
   "execution_count": 3,
   "metadata": {},
   "outputs": [],
   "source": [
    "#load data\n",
    "%sql sqlite:////home/carmencuadrado/Ironhack/Project-1/data-project-template/data/raw/raw_data_project_m1.db"
   ]
  },
  {
   "cell_type": "code",
   "execution_count": 4,
   "metadata": {},
   "outputs": [
    {
     "name": "stdout",
     "output_type": "stream",
     "text": [
      " * sqlite:////home/carmencuadrado/Ironhack/Project-1/data-project-template/data/raw/raw_data_project_m1.db\n",
      "Done.\n",
      "Returning data to local variable tables\n"
     ]
    }
   ],
   "source": [
    "%%sql tables <<\n",
    "\n",
    "SELECT \n",
    "    name\n",
    "FROM \n",
    "    sqlite_master\n",
    "WHERE \n",
    "    type ='table' AND \n",
    "    name NOT LIKE 'sqlite_%';"
   ]
  },
  {
   "cell_type": "code",
   "execution_count": 5,
   "metadata": {},
   "outputs": [
    {
     "data": {
      "text/html": [
       "<div>\n",
       "<style scoped>\n",
       "    .dataframe tbody tr th:only-of-type {\n",
       "        vertical-align: middle;\n",
       "    }\n",
       "\n",
       "    .dataframe tbody tr th {\n",
       "        vertical-align: top;\n",
       "    }\n",
       "\n",
       "    .dataframe thead th {\n",
       "        text-align: right;\n",
       "    }\n",
       "</style>\n",
       "<table border=\"1\" class=\"dataframe\">\n",
       "  <thead>\n",
       "    <tr style=\"text-align: right;\">\n",
       "      <th></th>\n",
       "      <th>name</th>\n",
       "    </tr>\n",
       "  </thead>\n",
       "  <tbody>\n",
       "    <tr>\n",
       "      <th>0</th>\n",
       "      <td>personal_info</td>\n",
       "    </tr>\n",
       "    <tr>\n",
       "      <th>1</th>\n",
       "      <td>country_info</td>\n",
       "    </tr>\n",
       "    <tr>\n",
       "      <th>2</th>\n",
       "      <td>career_info</td>\n",
       "    </tr>\n",
       "    <tr>\n",
       "      <th>3</th>\n",
       "      <td>poll_info</td>\n",
       "    </tr>\n",
       "  </tbody>\n",
       "</table>\n",
       "</div>"
      ],
      "text/plain": [
       "            name\n",
       "0  personal_info\n",
       "1   country_info\n",
       "2    career_info\n",
       "3      poll_info"
      ]
     },
     "execution_count": 5,
     "metadata": {},
     "output_type": "execute_result"
    }
   ],
   "source": [
    "tables.DataFrame()"
   ]
  },
  {
   "cell_type": "code",
   "execution_count": 6,
   "metadata": {
    "scrolled": true
   },
   "outputs": [
    {
     "name": "stdout",
     "output_type": "stream",
     "text": [
      " * sqlite:////home/carmencuadrado/Ironhack/Project-1/data-project-template/data/raw/raw_data_project_m1.db\n",
      "Done.\n",
      "Returning data to local variable left\n"
     ]
    }
   ],
   "source": [
    "%%sql left <<\n",
    "\n",
    "SELECT *\n",
    "FROM country_info\n",
    "LEFT JOIN career_info ON career_info.uuid = country_info.uuid \n",
    "LEFT JOIN personal_info ON personal_info.uuid = country_info.uuid\n",
    "LEFT JOIN poll_info ON poll_info.uuid = country_info.uuid;"
   ]
  },
  {
   "cell_type": "code",
   "execution_count": 7,
   "metadata": {},
   "outputs": [
    {
     "data": {
      "text/plain": [
       "uuid                                                      0\n",
       "country_code                                              0\n",
       "rural                                                     0\n",
       "uuid                                                      0\n",
       "dem_education_level                                     663\n",
       "dem_full_time_job                                         0\n",
       "normalized_job_code                                    3947\n",
       "uuid                                                      0\n",
       "age                                                       0\n",
       "gender                                                    0\n",
       "dem_has_children                                          0\n",
       "age_group                                                 0\n",
       "uuid                                                      0\n",
       "question_bbi_2016wave4_basicincome_awareness              0\n",
       "question_bbi_2016wave4_basicincome_vote                   0\n",
       "question_bbi_2016wave4_basicincome_effect                 0\n",
       "question_bbi_2016wave4_basicincome_argumentsfor           0\n",
       "question_bbi_2016wave4_basicincome_argumentsagainst       0\n",
       "dtype: int64"
      ]
     },
     "execution_count": 7,
     "metadata": {},
     "output_type": "execute_result"
    }
   ],
   "source": [
    "jobs_db=left.DataFrame()\n",
    "jobs_db.isnull().sum()"
   ]
  },
  {
   "cell_type": "code",
   "execution_count": 8,
   "metadata": {},
   "outputs": [
    {
     "data": {
      "text/plain": [
       "3947"
      ]
     },
     "execution_count": 8,
     "metadata": {},
     "output_type": "execute_result"
    }
   ],
   "source": [
    "jobs_db['normalized_job_code'].isnull().sum()"
   ]
  },
  {
   "cell_type": "code",
   "execution_count": 9,
   "metadata": {},
   "outputs": [],
   "source": [
    "# Store database in a csv to ease its readiness\n",
    "jobs_csv=jobs_db.to_csv(r'../data/processed/jobs_db.csv', index=False)"
   ]
  },
  {
   "cell_type": "code",
   "execution_count": 10,
   "metadata": {},
   "outputs": [],
   "source": [
    "#DATA ACQUISITION - API"
   ]
  },
  {
   "cell_type": "code",
   "execution_count": 13,
   "metadata": {},
   "outputs": [
    {
     "data": {
      "text/plain": [
       "(156, 4)"
      ]
     },
     "execution_count": 13,
     "metadata": {},
     "output_type": "execute_result"
    }
   ],
   "source": [
    "response = requests.get(f'http://api.dataatwork.org/v1/jobs/autocomplete?contains=data')\n",
    "json_data=response.json()\n",
    "api_df=pd.DataFrame(json_data)\n",
    "api_df.shape"
   ]
  },
  {
   "cell_type": "code",
   "execution_count": 14,
   "metadata": {},
   "outputs": [],
   "source": [
    "api_df = pd.DataFrame(json_data)\n",
    "api_df=api_df.to_json(r'../data/processed/api_data.json')"
   ]
  },
  {
   "cell_type": "code",
   "execution_count": 15,
   "metadata": {},
   "outputs": [],
   "source": [
    "#DATA ACQUISITION - WEB SCRAPPING"
   ]
  },
  {
   "cell_type": "code",
   "execution_count": 16,
   "metadata": {},
   "outputs": [],
   "source": [
    "url='https://ec.europa.eu/eurostat/statistics-explained/index.php/Glossary:Country_codes'\n",
    "html=requests.get(url).content"
   ]
  },
  {
   "cell_type": "code",
   "execution_count": 17,
   "metadata": {},
   "outputs": [
    {
     "data": {
      "text/plain": [
       "b'\\xef\\xbb\\xbf<!DOCTYPE html>\\n<html lang=\"en\" dir=\"ltr\" class=\"client-nojs\">\\n<head>\\n<meta http-equiv=\"X-UA-Compatible\" content=\"Ie=Edge,chrome=1\"/> <meta charset=\"UTF-8\" /><title>Glossary:Country codes - Statistics Explained</title>\\n<meta name=\"generator\" content=\"MediaWiki 1.22.5\" />\\n<link rel=\"shortcut icon\" href=\"https://ec.europa.eu/eurostat/estat-theme/images/favicon.ico\" />\\n<link rel=\"search\" type=\"application/opensearchdescription+xml\" href=\"/eurostat/statistics-explained/opensearch_desc.php\" title=\"Statistics Explained (en)\" />\\n<link rel=\"EditURI\" type=\"application/rsd+xml\" href=\"https://ec.europa.eu/eurostat/statistics-explained/api.php?action=rsd\" />\\n<link rel=\"alternate\" type=\"application/atom+xml\" title=\"Statistics Explained Atom feed\" href=\"/eurostat/statistics-explained/index.php?title=Special:RecentChanges&amp;feed=atom\" />\\n<link rel=\"stylesheet\" href=\"https://ec.europa.eu/eurostat/statistics-explained/load.php?debug=true&amp;lang=en&amp;modules=ext.rtlcite&amp;only=styles&amp;skin=statexpflat&amp;*\" />\\n<link rel=\"stylesheet\" href=\"https://ec.europa.eu/eurostat/statistics-explained/load.php?debug=true&amp;lang=en&amp;modules=mediawiki.legacy.commonPrint&amp;only=styles&amp;skin=statexpflat&amp;*\" />\\n<link rel=\"stylesheet\" href=\"https://ec.europa.eu/eurostat/statistics-explained/load.php?debug=true&amp;lang=en&amp;modules=mediawiki.legacy.shared&amp;only=styles&amp;skin=statexpflat&amp;*\" />\\n<link rel=\"stylesheet\" href=\"https://ec.europa.eu/eurostat/statistics-explained/load.php?debug=true&amp;lang=en&amp;modules=skins.statexpflat&amp;only=styles&amp;skin=statexpflat&amp;*\" />\\n<meta name=\"ResourceLoaderDynamicStyles\" content=\"\" />\\n<link rel=\"stylesheet\" href=\"https://ec.europa.eu/eurostat/statistics-explained/load.php?debug=true&amp;lang=en&amp;modules=site&amp;only=styles&amp;skin=statexpflat&amp;*\" />\\n<style>a:lang(ar), a:lang(ckb), a:lang(kk-arab), a:lang(mzn), a:lang(ps), a:lang(ur) { text-decoration: none; }</style>\\n\\n<script src=\"https://ec.europa.eu/eurostat/statistics-explained/load.php?debug=true&amp;lang=en&amp;modules=startup&amp;only=scripts&amp;skin=statexpflat&amp;*\"></script>\\n<script>if(window.mw){\\nmw.config.set( {\\n    \"wgCanonicalNamespace\": \"Glossary\",\\n    \"wgCanonicalSpecialPageName\": false,\\n    \"wgNamespaceNumber\": 100,\\n    \"wgPageName\": \"Glossary:Country_codes\",\\n    \"wgTitle\": \"Country codes\",\\n    \"wgCurRevisionId\": 479715,\\n    \"wgRevisionId\": 479715,\\n    \"wgArticleId\": 1994,\\n    \"wgIsArticle\": true,\\n    \"wgIsRedirect\": false,\\n    \"wgAction\": \"view\",\\n    \"wgUserName\": null,\\n    \"wgUserGroups\": [\\n        \"*\"\\n    ],\\n    \"wgCategories\": [\\n        \"Geography glossary\",\\n        \"Glossary\"\\n    ],\\n    \"wgBreakFrames\": false,\\n    \"wgPageContentLanguage\": \"en\",\\n    \"wgPageContentModel\": \"wikitext\",\\n    \"wgSeparatorTransformTable\": [\\n        \"\",\\n        \"\"\\n    ],\\n    \"wgDigitTransformTable\": [\\n        \"\",\\n        \"\"\\n    ],\\n    \"wgDefaultDateFormat\": \"dmy\",\\n    \"wgMonthNames\": [\\n        \"\",\\n        \"January\",\\n        \"February\",\\n        \"March\",\\n        \"April\",\\n        \"May\",\\n        \"June\",\\n        \"July\",\\n        \"August\",\\n        \"September\",\\n        \"October\",\\n        \"November\",\\n        \"December\"\\n    ],\\n    \"wgMonthNamesShort\": [\\n        \"\",\\n        \"Jan\",\\n        \"Feb\",\\n        \"Mar\",\\n        \"Apr\",\\n        \"May\",\\n        \"Jun\",\\n        \"Jul\",\\n        \"Aug\",\\n        \"Sep\",\\n        \"Oct\",\\n        \"Nov\",\\n        \"Dec\"\\n    ],\\n    \"wgRelevantPageName\": \"Glossary:Country_codes\",\\n    \"wgIsProbablyEditable\": false,\\n    \"wgRestrictionEdit\": [],\\n    \"wgRestrictionMove\": [],\\n    \"wgWikiEditorEnabledModules\": {\\n        \"toolbar\": true,\\n        \"dialogs\": false,\\n        \"hidesig\": true,\\n        \"templateEditor\": false,\\n        \"templates\": false,\\n        \"preview\": false,\\n        \"previewDialog\": false,\\n        \"publish\": false,\\n        \"toc\": false\\n    },\\n    \"wgCategoryTreePageCategoryOptions\": \"{\\\\\"mode\\\\\":0,\\\\\"hideprefix\\\\\":20,\\\\\"showcount\\\\\":true,\\\\\"namespaces\\\\\":false}\"\\n} );\\n}</script><script>if(window.mw){\\nmw.loader.implement( \"user.options\", function () {\\nmw.user.options.set( {\\n    \"ccmeonemails\": 0,\\n    \"cols\": 80,\\n    \"date\": \"default\",\\n    \"diffonly\": 0,\\n    \"disablemail\": 0,\\n    \"disablesuggest\": 0,\\n    \"editfont\": \"default\",\\n    \"editondblclick\": 0,\\n    \"editsection\": 1,\\n    \"editsectiononrightclick\": 0,\\n    \"enotifminoredits\": 0,\\n    \"enotifrevealaddr\": 0,\\n    \"enotifusertalkpages\": 1,\\n    \"enotifwatchlistpages\": 1,\\n    \"extendwatchlist\": 0,\\n    \"fancysig\": 0,\\n    \"forceeditsummary\": 0,\\n    \"gender\": \"unknown\",\\n    \"hideminor\": 0,\\n    \"hidepatrolled\": 0,\\n    \"imagesize\": 2,\\n    \"justify\": 0,\\n    \"math\": 6,\\n    \"minordefault\": 0,\\n    \"newpageshidepatrolled\": 0,\\n    \"nocache\": 0,\\n    \"noconvertlink\": 0,\\n    \"norollbackdiff\": 0,\\n    \"numberheadings\": 0,\\n    \"previewonfirst\": 0,\\n    \"previewontop\": 1,\\n    \"rcdays\": 7,\\n    \"rclimit\": 50,\\n    \"rememberpassword\": 0,\\n    \"rows\": 25,\\n    \"searchlimit\": 20,\\n    \"showhiddencats\": 0,\\n    \"shownumberswatching\": 1,\\n    \"showtoc\": 1,\\n    \"showtoolbar\": 1,\\n    \"skin\": \"statexpflat\",\\n    \"stubthreshold\": 0,\\n    \"thumbsize\": 2,\\n    \"underline\": 2,\\n    \"uselivepreview\": 0,\\n    \"usenewrc\": 0,\\n    \"vector-simplesearch\": 1,\\n    \"watchcreations\": 0,\\n    \"watchdefault\": 0,\\n    \"watchdeletion\": 0,\\n    \"watchlistdays\": 3,\\n    \"watchlisthideanons\": 0,\\n    \"watchlisthidebots\": 0,\\n    \"watchlisthideliu\": 0,\\n    \"watchlisthideminor\": 0,\\n    \"watchlisthideown\": 0,\\n    \"watchlisthidepatrolled\": 0,\\n    \"watchmoves\": 0,\\n    \"wllimit\": 250,\\n    \"useeditwarning\": 1,\\n    \"prefershttps\": 1,\\n    \"flaggedrevsstable\": 1,\\n    \"usebetatoolbar\": 1,\\n    \"mathJax\": true,\\n    \"language\": \"en\",\\n    \"variant-gan\": \"gan\",\\n    \"variant-iu\": \"iu\",\\n    \"variant-kk\": \"kk\",\\n    \"variant-ku\": \"ku\",\\n    \"variant-shi\": \"shi\",\\n    \"variant-sr\": \"sr\",\\n    \"variant-tg\": \"tg\",\\n    \"variant-uz\": \"uz\",\\n    \"variant-zh\": \"zh\",\\n    \"searchNs0\": true,\\n    \"searchNs1\": false,\\n    \"searchNs2\": false,\\n    \"searchNs3\": false,\\n    \"searchNs4\": false,\\n    \"searchNs5\": false,\\n    \"searchNs6\": false,\\n    \"searchNs7\": false,\\n    \"searchNs8\": false,\\n    \"searchNs9\": false,\\n    \"searchNs10\": false,\\n    \"searchNs11\": false,\\n    \"searchNs12\": false,\\n    \"searchNs13\": false,\\n    \"searchNs14\": false,\\n    \"searchNs15\": false,\\n    \"searchNs100\": false,\\n    \"searchNs101\": false,\\n    \"searchNs104\": false,\\n    \"searchNs105\": false,\\n    \"searchNs108\": false,\\n    \"searchNs110\": false,\\n    \"searchNs111\": false,\\n    \"searchNs112\": false,\\n    \"searchNs113\": false,\\n    \"searchNs114\": false,\\n    \"searchNs120\": false,\\n    \"searchNs121\": false,\\n    \"searchNs122\": false,\\n    \"searchNs123\": false,\\n    \"searchNs124\": false,\\n    \"searchNs125\": false,\\n    \"searchNs126\": false,\\n    \"searchNs127\": false,\\n    \"searchNs128\": false,\\n    \"searchNs129\": false,\\n    \"searchNs130\": false,\\n    \"searchNs131\": false,\\n    \"searchNs132\": false,\\n    \"searchNs133\": false,\\n    \"searchNs134\": false,\\n    \"searchNs135\": false,\\n    \"searchNs154\": false,\\n    \"searchNs155\": false,\\n    \"variant\": \"en\"\\n} );\\n}, {}, {} );\\n}</script>\\n<script>if(window.mw){\\nmw.loader.implement( \"user.tokens\", function () {\\nmw.user.tokens.set( {\\n    \"editToken\": \"+\\\\\\\\\",\\n    \"patrolToken\": false,\\n    \"watchToken\": false\\n} );\\n}, {}, {} );\\n}</script>\\n<script>if(window.mw){\\nmw.loader.load([\"mediawiki.page.startup\",\"mediawiki.legacy.wikibits\",\"mediawiki.legacy.ajax\"]);\\n}</script>\\n  <link href=\"/eurostat/statistics-explained/extensions/EditWarning/style.css\" rel=\"stylesheet\" type=\"text/css\" />\\n\\t\\t\\t  <script src=\"/eurostat/statistics-explained/extensions/StatexpVislet/StatexpVislet.js\"></script><meta http-equiv=\"X-UA-Compatible\" content=\"IE=edge\"><meta name=\"viewport\" content=\"width=device-width, initial-scale=1.0\"><link rel=\"stylesheet\" href=\"/eurostat/statistics-explained/skins/statexpflat/css/font-awesome-4.6.3/css/font-awesome.min.css\"/><link rel=\"stylesheet\" href=\"/eurostat/statistics-explained/skins/statexpflat/css/statexpflat.css\"/><link rel=\"stylesheet\" href=\"/eurostat/statistics-explained/skins/statexpflat/css/statexpflat-grid.css\"/>\\n\\t\\t\\t  <script src=\"/eurostat/statistics-explained/skins/statexpflat/js/modernizr.custom.36138.js\"></script>\\n\\t\\t\\t  <script src=\"/eurostat/statistics-explained/skins/statexpflat/js/css3-mediaqueries.js\"></script><!-- HTML5 shim and Respond.js IE8 support of HTML5 elements and media queries -->\\n\\t\\t\\t<!--[if lt IE 9]>\\n\\t\\t\\t  <script src=\"/eurostat/statistics-explained/skins/statexpflat/js/html5shiv.min.js\"></script>\\n\\t\\t\\t  <script src=\"/eurostat/statistics-explained/skins/statexpflat/js/respond.min.js\"></script>\\n\\t\\t\\t<![endif]--></head>\\n<body class=\"mediawiki ltr sitedir-ltr ns-100 ns-subject page-Glossary_Country_codes skin-statexpflat action-view\">\\n\\n<!--\\n\\n                <div id=\"fb-root\"></div>\\n  <script>(function(d, s, id) {\\n    var js, fjs = d.getElementsByTagName(s)[0];\\n    if (d.getElementById(id)) return;\\n    js = d.createElement(s); js.id = id;\\n    js.src = \"//connect.facebook.net/fr_FR/sdk.js#xfbml=1&version=v2.8\";\\n    fjs.parentNode.insertBefore(js, fjs);\\n  }(document, \\'script\\', \\'facebook-jssdk\\'));</script>\\n\\n-->\\n\\n<div class=\"container\">\\n\\n<div class=\"header\" id=\"se-header\">\\n\\t<div class=\"grey-stripe\"></div>\\n\\t<div class=\"flag hidden-xs hidden-sm\"></div>\\n  <div class=\"flag-mobile hidden-md hidden-lg\"></div>\\n\\t<ul class=\"login list-inline hidden-xs hidden-sm\">\\n<li><a href=\"https://ec.europa.eu/eurostat/statistics-explained/index.php/Tutorial:Help_for_readers\\n\">Tutorials</a></li>\\n\\n\\t\\t\\t<li><a href=\"/eurostat/statistics-explained/index.php?title=Special:UserLogin&amp;returnto=Glossary%3ACountry+codes\"\\n\\t\\t\\t\\t title=\"Login is required to edit (reserved for Eurostat and accredited contributors)\" accesskey=\"o\" \\t\\t\\t\\t>log in</a></li>\\n\\t\\t\\t\\t\\t <li class=\"login-icon\"></li>\\n\\t\\t</ul>\\n\\n\\t<div class=\"heading\">\\n\\t\\t<!--<div class=\"statexp-small hidden-lg hidden-md\">Statistics Explained</div>-->\\n\\t\\t\\t\\t<div class=\"lighthouse articles visible-lg-block\"></div>\\n\\t\\t\\n\\t\\t<div class=\"links hidden-xs hidden-sm\">\\n\\t\\t<ul class=\"list-inline\">\\n      \\n\\n<li class=\"lang-selector hidden-xs hidden-sm\">\\n<div class=\"dropdown\">\\n   <button id=\"lang-selector\" type=\"button\" data-toggle=\"dropdown\" aria-haspopup=\"true\" aria-expanded=\"false\">\\n    <a href=\"https://ec.europa.eu/eurostat/statistics-explained/index.php?title=Glossary:Country_codes\">English</a>    <span class=\"caret\"></span>\\n  </button>\\n  <ul class=\"dropdown-menu\" role=\"menu\" aria-labelledby=\"dLabel\">\\n\\n\\t\\t\\t\\t<li><a href=\"https://ec.europa.eu/eurostat/statistics-explained/index.php?title=Glossary:Country_codes/de\">Deutsch</a></li>\\n\\t\\t\\t\\t<li><a href=\"https://ec.europa.eu/eurostat/statistics-explained/index.php?title=Glossary:Country_codes/fr\">fran\\xc3\\xa7ais</a></li>\\n  </ul>\\n\\n</div>\\n\\n</li>\\n\\n\\t\\t\\t</ul>\\n\\n\\t\\t</div>\\n\\t\\t<!----\\n\\t\\t<div class=\"eurostat\">eurostat</div>\\n\\t\\t<div class=\"statexp\">Statistics Explained</div>\\n\\t\\t<!---->\\n\\t\\t<a href=\"https://ec.europa.eu/eurostat/statistics-explained/index.php/Main_Page\"><div class=\"statexptitle\"></div></a>\\n    <div class=\"mobile-header-buttons hidden-md hidden-lg\">\\n      <button id=\"mobile-menu-button\" class=\"bt-open\">\\n        <span class=\"glyphicon glyphicon-align-justify icon-show\"></span>\\n      <span class=\"glyphicon glyphicon-remove icon-hide\"></span>\\n    </button>\\n    <button id=\"mobile-search-button\" class=\"bt-open\">\\n      <span class=\"glyphicon glyphicon-search icon-show\"></span>\\n      <span class=\"glyphicon glyphicon-remove icon-hide\"></span>\\n    </button>\\n</div>\\n        <!---->\\n\\t\\t<div class=\"search-box hidden-xs hidden-sm\">\\n<form class=\"form-inline\" action=\"/eurostat/statistics-explained/index.php\" id=\"searchform\">\\n<input type=\\'hidden\\' name=\"title\" value=\"Special:Search\"/>\\n  <div class=\"form-group\">\\n    <div class=\"input-group\">\\n      <input type=\"search\" name=\"search\" placeholder=\"Search\" title=\"Search Statistics Explained [f]\" accesskey=\"f\" id=\"searchInput\" class=\"form-control search-field\" />      <span class=\"input-group-btn\">\\n        \\t   <button type=\"submit\" id=\"mw-searchButton\" class=\"btn search-btn search-general\">\\n\\t   \\t\\t<span class=\"glyphicon glyphicon-search\" aria-hidden=\"true\"></span>\\n\\t   </button>\\n      </span>\\n    </div>\\n  </div>\\n</form>\\n</div>\\n\\n\\n\\t\\t\\n\\t</div>\\n\\t      <div class=\"row hidden-xs hidden-sm\">\\n        <div class=\"col-lg-12  \" id=\"menu-bar-container\">\\n          <div class=\"row menu-bar-container\">\\n          <div class=\"col-lg-4 col-md-4 head-menu-bar\">\\n          <div class=\"dropdown\">\\n            <button class=\"btn btn-default dropdown-toggle\" type=\"button\" id=\"p-navigation\" data-toggle=\"dropdown\" aria-haspopup=\"true\" aria-expanded=\"false\">\\n               Navigation              <span class=\"caret\"></span>\\n            </button>\\n                        \\t\\t\\t<ul class=\"dropdown-menu\" aria-labelledby=\"Navigation\">\\n            \\n            \\t\\t\\t\\t<li id=\"n-Home\"><a href=\"https://ec.europa.eu/eurostat/statistics-explained/index.php/Main_Page\">Main page</a></li>\\n            \\n            \\t\\t\\t\\t<li id=\"n-Statistical-themes\"><a href=\"https://ec.europa.eu/eurostat/statistics-explained/index.php/Statistical_themes\">Statistical themes</a></li>\\n            \\n            \\t\\t\\t\\t<li id=\"n-Glossary\"><a href=\"https://ec.europa.eu/eurostat/statistics-explained/index.php/Thematic_glossaries\">Glossary</a></li>\\n            \\n            \\t\\t\\t\\t<li id=\"n-Categories\"><a href=\"https://ec.europa.eu/eurostat/statistics-explained/index.php/Special:Categories\">Categories</a></li>\\n            \\n            \\t\\t\\t\\t<li id=\"n-Statistics-4-beginners\"><a href=\"https://ec.europa.eu/eurostat/statistics-explained/index.php/Beginners:Statistics_4_beginners\">Statistics 4 beginners</a></li>\\n            \\n            \\t\\t\\t\\t<li id=\"n-Tutorials\"><a href=\"https://ec.europa.eu/eurostat/statistics-explained/index.php/Tutorial:Help_for_readers&#10;\">Tutorials</a></li>\\n            \\n            \\t\\t\\t\\t<li id=\"n-help\"><a href=\"https://ec.europa.eu/eurostat/statistics-explained/index.php/Help:Contents\" rel=\"nofollow\" title=\"The place to find out\">Help</a></li>\\n            \\n            \\t\\t\\t\\t<li id=\"n-Eurostat-home\"><a href=\"http://ec.europa.eu/eurostat/\" rel=\"nofollow\">Eurostat home</a></li>\\n            \\n            \\t\\t\\t\\t<li id=\"n-Contact-Eurostat\"><a href=\"http://ec.europa.eu/eurostat/help/support\" rel=\"nofollow\">Contact Eurostat</a></li>\\n                        \\t\\t\\t</ul>\\n            \\n          </div>\\n        </div>\\n\\n    <div class=\"col-lg-4 col-md-4 head-menu-bar\">\\n          <div class=\"dropdown\">\\n            <button class=\"btn btn-default dropdown-toggle\" type=\"button\" id=\"p-m-onlinepub\" data-toggle=\"dropdown\" aria-haspopup=\"true\" aria-expanded=\"false\">\\n               Online publications              <span class=\"caret\"></span>\\n            </button>\\n                        \\t\\t\\t<ul class=\"dropdown-menu\" aria-labelledby=\"Online publications\">\\n            \\n            \\t\\t\\t\\t<li id=\"n-Regional-yearbook\"><a href=\"https://ec.europa.eu/eurostat/statistics-explained/index.php/Eurostat_regional_yearbook\">Regional yearbook</a></li>\\n            \\n            \\t\\t\\t\\t<li id=\"n-The-EU-in-the-world\"><a href=\"https://ec.europa.eu/eurostat/statistics-explained/index.php/The_EU_in_the_world\">The EU in the world</a></li>\\n            \\n            \\t\\t\\t\\t<li id=\"n-Multilingual-articles\"><a href=\"/eurostat/statistics-explained/index.php?title=Multilingual_articles\">Multilingual articles</a></li>\\n            \\n            \\t\\t\\t\\t<li id=\"n-Other-publications\"><a href=\"https://ec.europa.eu/eurostat/statistics-explained/index.php/Online publications\">Full list</a></li>\\n                        \\t\\t\\t</ul>\\n            \\n          </div>\\n        </div>\\n\\n    <div class=\"col-lg-4 col-md-4 head-menu-bar\">\\n          <div class=\"dropdown\">\\n            <button class=\"btn btn-default dropdown-toggle\" type=\"button\" id=\"p-TOOLBOX\" data-toggle=\"dropdown\" aria-haspopup=\"true\" aria-expanded=\"false\">\\nTools               <span class=\"caret\"></span>\\n            </button>\\n                        \\t\\t\\t<ul class=\"dropdown-menu\" aria-labelledby=\"\">\\n                      \\t\\t\\t<li id=\"t-whatlinkshere\"><a href=\"/eurostat/statistics-explained/index.php?title=Special:WhatLinksHere/Glossary:Country_codes\" title=\"A list of all wiki pages that link here [j]\" accesskey=\"j\">What links here</a></li>          \\t\\t\\t          \\t\\t\\t<li id=\"t-specialpages\"><a href=\"/eurostat/statistics-explained/index.php?title=Special:SpecialPages\" title=\"A list of all special pages [q]\" accesskey=\"q\">Special pages</a></li>          \\t\\t\\t          \\t\\t\\t          \\t\\t\\t            \\t\\t\\t</ul>\\n            \\n          </div>\\n        </div>\\n\\n      </div>\\n   </div>\\n  </div>\\n\\t</div>\\n<div class=\"row hidden-md hidden-lg\">\\n  <div class=\"col-sm-12 col-xs-12 mobile-search\">\\n    <div class=\"search-box search-box-mobile hidden-md hidden-lg\">\\n<form class=\"form-inline\" action=\"/eurostat/statistics-explained/index.php\" id=\"searchform\">\\n<input type=\\'hidden\\' name=\"title\" value=\"Special:Search\"/>\\n  <div class=\"form-group\">\\n    <div class=\"input-group\">\\n      <input type=\"search\" name=\"search\" placeholder=\"Search\" title=\"Search Statistics Explained [f]\" accesskey=\"f\" id=\"searchInput\" class=\"form-control search-field\" />      <span class=\"input-group-btn\">\\n        <button type=\"submit\" id=\"mw-searchButton\" class=\"btn search-btn search-general\">\\n        <span class=\"glyphicon glyphicon-search\" aria-hidden=\"true\"></span>\\n     </button>\\n      </span>\\n    </div>\\n  </div>\\n</form>\\n</div>\\n\\n  </div>\\n  <div class=\"col-sm-12 col-xs-12 mobile-menu\">\\n        <div class=\"col-lg-4 col-md-4 head-menu-bar\">\\n          <div class=\"dropdown\">\\n            <button class=\"btn btn-default dropdown-toggle\" type=\"button\" id=\"p-navigation\" data-toggle=\"dropdown\" aria-haspopup=\"true\" aria-expanded=\"false\">\\n               Navigation              <span class=\"caret\"></span>\\n            </button>\\n                        \\t\\t\\t<ul class=\"dropdown-menu\" aria-labelledby=\"Navigation\">\\n            \\n            \\t\\t\\t\\t<li id=\"n-Home\"><a href=\"https://ec.europa.eu/eurostat/statistics-explained/index.php/Main_Page\">Main page</a></li>\\n            \\n            \\t\\t\\t\\t<li id=\"n-Statistical-themes\"><a href=\"https://ec.europa.eu/eurostat/statistics-explained/index.php/Statistical_themes\">Statistical themes</a></li>\\n            \\n            \\t\\t\\t\\t<li id=\"n-Glossary\"><a href=\"https://ec.europa.eu/eurostat/statistics-explained/index.php/Thematic_glossaries\">Glossary</a></li>\\n            \\n            \\t\\t\\t\\t<li id=\"n-Categories\"><a href=\"https://ec.europa.eu/eurostat/statistics-explained/index.php/Special:Categories\">Categories</a></li>\\n            \\n            \\t\\t\\t\\t<li id=\"n-Statistics-4-beginners\"><a href=\"https://ec.europa.eu/eurostat/statistics-explained/index.php/Beginners:Statistics_4_beginners\">Statistics 4 beginners</a></li>\\n            \\n            \\t\\t\\t\\t<li id=\"n-Tutorials\"><a href=\"https://ec.europa.eu/eurostat/statistics-explained/index.php/Tutorial:Help_for_readers&#10;\">Tutorials</a></li>\\n            \\n            \\t\\t\\t\\t<li id=\"n-help\"><a href=\"https://ec.europa.eu/eurostat/statistics-explained/index.php/Help:Contents\" rel=\"nofollow\" title=\"The place to find out\">Help</a></li>\\n            \\n            \\t\\t\\t\\t<li id=\"n-Eurostat-home\"><a href=\"http://ec.europa.eu/eurostat/\" rel=\"nofollow\">Eurostat home</a></li>\\n            \\n            \\t\\t\\t\\t<li id=\"n-Contact-Eurostat\"><a href=\"http://ec.europa.eu/eurostat/help/support\" rel=\"nofollow\">Contact Eurostat</a></li>\\n                        \\t\\t\\t</ul>\\n            \\n          </div>\\n        </div>\\n\\n    <div class=\"col-lg-4 col-md-4 head-menu-bar\">\\n          <div class=\"dropdown\">\\n            <button class=\"btn btn-default dropdown-toggle\" type=\"button\" id=\"p-m-onlinepub\" data-toggle=\"dropdown\" aria-haspopup=\"true\" aria-expanded=\"false\">\\n               Online publications              <span class=\"caret\"></span>\\n            </button>\\n                        \\t\\t\\t<ul class=\"dropdown-menu\" aria-labelledby=\"Online publications\">\\n            \\n            \\t\\t\\t\\t<li id=\"n-Regional-yearbook\"><a href=\"https://ec.europa.eu/eurostat/statistics-explained/index.php/Eurostat_regional_yearbook\">Regional yearbook</a></li>\\n            \\n            \\t\\t\\t\\t<li id=\"n-The-EU-in-the-world\"><a href=\"https://ec.europa.eu/eurostat/statistics-explained/index.php/The_EU_in_the_world\">The EU in the world</a></li>\\n            \\n            \\t\\t\\t\\t<li id=\"n-Multilingual-articles\"><a href=\"/eurostat/statistics-explained/index.php?title=Multilingual_articles\">Multilingual articles</a></li>\\n            \\n            \\t\\t\\t\\t<li id=\"n-Other-publications\"><a href=\"https://ec.europa.eu/eurostat/statistics-explained/index.php/Online publications\">Full list</a></li>\\n                        \\t\\t\\t</ul>\\n            \\n          </div>\\n        </div>\\n\\n    <div class=\"col-lg-4 col-md-4 head-menu-bar\">\\n          <div class=\"dropdown\">\\n            <button class=\"btn btn-default dropdown-toggle\" type=\"button\" id=\"p-TOOLBOX\" data-toggle=\"dropdown\" aria-haspopup=\"true\" aria-expanded=\"false\">\\nTools               <span class=\"caret\"></span>\\n            </button>\\n                        \\t\\t\\t<ul class=\"dropdown-menu\" aria-labelledby=\"\">\\n                      \\t\\t\\t<li id=\"t-whatlinkshere\"><a href=\"/eurostat/statistics-explained/index.php?title=Special:WhatLinksHere/Glossary:Country_codes\" title=\"A list of all wiki pages that link here [j]\" accesskey=\"j\">What links here</a></li>          \\t\\t\\t          \\t\\t\\t<li id=\"t-specialpages\"><a href=\"/eurostat/statistics-explained/index.php?title=Special:SpecialPages\" title=\"A list of all special pages [q]\" accesskey=\"q\">Special pages</a></li>          \\t\\t\\t          \\t\\t\\t          \\t\\t\\t            \\t\\t\\t</ul>\\n            \\n          </div>\\n        </div>\\n\\n  </div>\\n</div>\\n\\n<!--END HEADER BEGIN PAGE-->\\n<!----\\n<div class=\"onerow\">\\n<!---->\\n<div class=\"row content-row\">\\n\\t<!-- BEGIN LSF -->\\n<!---->\\n\\t<div class=\"hidden-md hidden-lg hidden-xs hidden-sm sidebar content-col\">\\n\\t<!----\\n\\t\\t<div class=\"col2 sidebar\">\\n\\t\\t<!---->\\n\\t\\t    <div class=\"col-lg-4 col-md-4 head-menu-bar\">\\n          <div class=\"dropdown\">\\n            <button class=\"btn btn-default dropdown-toggle\" type=\"button\" id=\"p-navigation\" data-toggle=\"dropdown\" aria-haspopup=\"true\" aria-expanded=\"false\">\\n               Navigation              <span class=\"caret\"></span>\\n            </button>\\n                        \\t\\t\\t<ul class=\"dropdown-menu\" aria-labelledby=\"Navigation\">\\n            \\n            \\t\\t\\t\\t<li id=\"n-Home\"><a href=\"https://ec.europa.eu/eurostat/statistics-explained/index.php/Main_Page\">Main page</a></li>\\n            \\n            \\t\\t\\t\\t<li id=\"n-Statistical-themes\"><a href=\"https://ec.europa.eu/eurostat/statistics-explained/index.php/Statistical_themes\">Statistical themes</a></li>\\n            \\n            \\t\\t\\t\\t<li id=\"n-Glossary\"><a href=\"https://ec.europa.eu/eurostat/statistics-explained/index.php/Thematic_glossaries\">Glossary</a></li>\\n            \\n            \\t\\t\\t\\t<li id=\"n-Categories\"><a href=\"https://ec.europa.eu/eurostat/statistics-explained/index.php/Special:Categories\">Categories</a></li>\\n            \\n            \\t\\t\\t\\t<li id=\"n-Statistics-4-beginners\"><a href=\"https://ec.europa.eu/eurostat/statistics-explained/index.php/Beginners:Statistics_4_beginners\">Statistics 4 beginners</a></li>\\n            \\n            \\t\\t\\t\\t<li id=\"n-Tutorials\"><a href=\"https://ec.europa.eu/eurostat/statistics-explained/index.php/Tutorial:Help_for_readers&#10;\">Tutorials</a></li>\\n            \\n            \\t\\t\\t\\t<li id=\"n-help\"><a href=\"https://ec.europa.eu/eurostat/statistics-explained/index.php/Help:Contents\" rel=\"nofollow\" title=\"The place to find out\">Help</a></li>\\n            \\n            \\t\\t\\t\\t<li id=\"n-Eurostat-home\"><a href=\"http://ec.europa.eu/eurostat/\" rel=\"nofollow\">Eurostat home</a></li>\\n            \\n            \\t\\t\\t\\t<li id=\"n-Contact-Eurostat\"><a href=\"http://ec.europa.eu/eurostat/help/support\" rel=\"nofollow\">Contact Eurostat</a></li>\\n                        \\t\\t\\t</ul>\\n            \\n          </div>\\n        </div>\\n\\n    <div class=\"col-lg-4 col-md-4 head-menu-bar\">\\n          <div class=\"dropdown\">\\n            <button class=\"btn btn-default dropdown-toggle\" type=\"button\" id=\"p-m-onlinepub\" data-toggle=\"dropdown\" aria-haspopup=\"true\" aria-expanded=\"false\">\\n               Online publications              <span class=\"caret\"></span>\\n            </button>\\n                        \\t\\t\\t<ul class=\"dropdown-menu\" aria-labelledby=\"Online publications\">\\n            \\n            \\t\\t\\t\\t<li id=\"n-Regional-yearbook\"><a href=\"https://ec.europa.eu/eurostat/statistics-explained/index.php/Eurostat_regional_yearbook\">Regional yearbook</a></li>\\n            \\n            \\t\\t\\t\\t<li id=\"n-The-EU-in-the-world\"><a href=\"https://ec.europa.eu/eurostat/statistics-explained/index.php/The_EU_in_the_world\">The EU in the world</a></li>\\n            \\n            \\t\\t\\t\\t<li id=\"n-Multilingual-articles\"><a href=\"/eurostat/statistics-explained/index.php?title=Multilingual_articles\">Multilingual articles</a></li>\\n            \\n            \\t\\t\\t\\t<li id=\"n-Other-publications\"><a href=\"https://ec.europa.eu/eurostat/statistics-explained/index.php/Online publications\">Full list</a></li>\\n                        \\t\\t\\t</ul>\\n            \\n          </div>\\n        </div>\\n\\n    <div class=\"col-lg-4 col-md-4 head-menu-bar\">\\n          <div class=\"dropdown\">\\n            <button class=\"btn btn-default dropdown-toggle\" type=\"button\" id=\"p-TOOLBOX\" data-toggle=\"dropdown\" aria-haspopup=\"true\" aria-expanded=\"false\">\\nTools               <span class=\"caret\"></span>\\n            </button>\\n                        \\t\\t\\t<ul class=\"dropdown-menu\" aria-labelledby=\"\">\\n                      \\t\\t\\t<li id=\"t-whatlinkshere\"><a href=\"/eurostat/statistics-explained/index.php?title=Special:WhatLinksHere/Glossary:Country_codes\" title=\"A list of all wiki pages that link here [j]\" accesskey=\"j\">What links here</a></li>          \\t\\t\\t          \\t\\t\\t<li id=\"t-specialpages\"><a href=\"/eurostat/statistics-explained/index.php?title=Special:SpecialPages\" title=\"A list of all special pages [q]\" accesskey=\"q\">Special pages</a></li>          \\t\\t\\t          \\t\\t\\t          \\t\\t\\t            \\t\\t\\t</ul>\\n            \\n          </div>\\n        </div>\\n\\n\\t</div>\\n\\t<!-- END LSF -->\\n\\n\\t<!-- BEGIN CONTENT-->\\n  <div class=\"col-lg-12 col-md-12 col-sm-12 col-xs-12 content-col content article-content \">\\n  \\n\\n\\t\\t<div id=\"content\" class=\"content\">\\n\\n\\t\\t<a name=\"top\" id=\"top\"></a>\\n\\t\\t\\t\\t\\n      <div class=\"article-action-bar\">\\n\\n                  <div style=\"height: 17px;\"><div style=\"float: right;    position: relative;\">\\n                    <a href=\"https://twitter.com/intent/tweet?url=https%3A%2F%2Fec.europa.eu%2Feurostat%2Fstatistics-explained%2Findex.php%3Ftitle%3DGlossary%3ACountry_codes&hashtags=Eurostat\"><i class=\"fa fa-twitter fa-2x\" aria-hidden=\"true\" style=\"color: #00aced;\"></i></a>\\n\\n                    <a href=\"https://www.facebook.com/sharer/sharer.php?u=https%3A%2F%2Fec.europa.eu%2Feurostat%2Fstatistics-explained%2Findex.php%3Ftitle%3DGlossary%3ACountry_codes\" style=\"margin-right: 28px;\" target=\"_blank\" onclick=\"window.open(this.href,\\'\\',\\'scrollbars=1,resizable=1,width=400,height=620\\');return false;\">\\n  \\t\\t\\t\\t\\t\\t<i class=\"fa fa-facebook-official fa-2x\" aria-hidden=\"true\" style=\"color: #3b5998;\"></i>\\n\\t\\t\\t\\t\\t</a>\\n\\t\\t\\t\\t\\t<a href=\"mailto:?subject=Eurostat - Statistics Explained - Country codes&body=Statistics Explained - Country codes %0A https%3A%2F%2Fec.europa.eu%2Feurostat%2Fstatistics-explained%2Findex.php%3Ftitle%3DGlossary%3ACountry_codes\" style=\"background: #466eb4;\\n    border: #466eb4 1px solid;\\n    color: #fff;\\n    border-radius: 50%;\\n\\tfont-size: 15px;\\n    position: absolute;\\n    width: 28px;\\n    height: 28px;\\n\\tleft: 56px;\">\\n\\t\\t\\t\\t\\t\\t<i class=\"fa fa-envelope\" aria-hidden=\"true\" style=\"\\n    padding-left: 5px;\\n    padding-top: 5px;\\n\"></i>\\n\\t\\t\\t\\t\\t</a>\\n\\t\\t\\t\\t\\t\\n      <span>&nbsp;&nbsp;&nbsp;&nbsp;</span>\\n\\n              <a href=\"http://ec.europa.eu/eurostat/statistics-explained/pdfscache/1994.pdf\" rel=\"nofollow\"\">\\n          <i class=\"fa fa-print fa-2x\" aria-hidden=\"true\"></i>\\n\\n        </a>\\n                \\n\\n                  </div></div>\\n\\n\\n                  <!-- <script type=\"text/javascript\" src=\"./dev_files/addthis_widget.js\"></script>-->\\n                <!--  <span id=\"userbar-print\" class=\"hidden-xs hidden-sm\">\\n            <a href=\"http://127.0.0.1/statexp/pdfscache/1163.pdf\" rel=\"nofollow\" \"=\"\">\\n            <img src=\"./dev_files/print.png\">\\n\\n          </a>\\n        </span>-->\\n\\n\\n\\n                </div>\\n\\n\\t\\t<div class=\"article-action-bar\">\\n<!----\\n\\t<span>\\n\\n\\t\\t\\t\\t\\t\\t\\t\\t\\t\\t\\t\\t\\t<a target=\"_blank\" href=\"/eurostat/statistics-explained/index.php?title=Glossary:Country_codes&amp;printable=yes\"\\n\\t\\t\\t\\t\\t\\t\\t title=\"Printable version of this page\" accesskey=\"p\" >\\n\\t\\t\\t\\t\\t\\t\\t\\t<img src=\"https://ec.europa.eu/eurostat/statistics-explained/skins/statexpflat/media/print.png\">\\n\\t\\t\\t\\t\\t\\t\\t\\t\\t\\t\\t\\t\\t</span>\\n<!---->\\n\\n\\n                    \\n\\n\\n\\t\\t</div>\\n\\n\\t\\t<h1 id=\"firstHeading\" class=\"firstHeading\">\\n\\t\\t\\t\\t\\t\\tGlossary:Country codes\\t\\t</h1>\\n  \\n\\t\\t\\t\\t<div id=\"bodyContent\" class=\"bodyContent\">\\n\\t\\t\\t<!-- No sitesub--\\n\\t\\t\\t<h3 id=\"siteSub\">From Statistics Explained</h3>\\n\\t\\t\\t<!---->\\n\\n\\t\\t \\t\\t\\t\\t<div id=\"contentSub\" class=\"contentSub\"></div>\\n\\t\\t\\t\\t\\t\\t\\t\\t\\t\\t\\t\\t\\t\\t\\t\\t<div id=\"jump-to-nav\">\\n\\t\\t\\t\\t\\tJump to:\\t\\t\\t\\t\\t<a href=\"#column-one\">\\n\\t\\t\\t\\t\\t\\tnavigation\\t\\t\\t\\t\\t</a>, <a href=\"#searchInput\">\\n\\t\\t\\t\\t\\t\\tsearch\\t\\t\\t\\t\\t</a>\\n\\t\\t\\t\\t</div>\\n\\t\\t\\t\\t\\t\\t<!-- start content -->\\n\\t\\t\\t<div id=\"mw-content-text\" lang=\"en\" dir=\"ltr\" class=\"mw-content-ltr\"><p>Member States of the <a href=\"/eurostat/statistics-explained/index.php?title=Glossary:European_Union_(EU)\" title=\"Glossary:European Union (EU)\">European Union (EU)</a> and other countries have been assigned a two-letter <b>country code</b>, always written in capital letters, and often used as an abbreviation in statistical analyses, tables, figures or maps. \\n</p><p><br />\\nThe <b>protocol order</b> in which countries are often listed is based on the alphabetical list of countries in their national language for EU and <a href=\"/eurostat/statistics-explained/index.php?title=Glossary:European_Free_Trade_Association_(EFTA)\" title=\"Glossary:European Free Trade Association (EFTA)\">EFTA</a> Member States and for <a href=\"/eurostat/statistics-explained/index.php?title=Glossary:Candidate_countries\" title=\"Glossary:Candidate countries\">candidate countries</a>; for <a href=\"/eurostat/statistics-explained/index.php?title=Glossary:Potential_candidates\" title=\"Glossary:Potential candidates\" class=\"mw-redirect\">potential candidates</a>, it is based on the alphabetical order of their country code. \\n</p><p>EU Member States come first, followed by <a href=\"/eurostat/statistics-explained/index.php?title=Glossary:European_Free_Trade_Association_(EFTA)\" title=\"Glossary:European Free Trade Association (EFTA)\">European Free Trade Association (EFTA)</a> Member States, candidate countries for EU membership, potential candidates and, finally, other countries. The order in the tables below is first column down, then second column down, etc.. \\n</p><p><b>European Union (EU)</b> \\n</p>\\n<table width=\"80%\" cellpadding=\"2\" cellspacing=\"0\" style=\"vertical-align:top;background-color:#f5faff\" border=\"1\">\\n<tr>\\n<td>Belgium\\n</td>\\n<td>(BE)\\n</td>\\n<td>Greece\\n</td>\\n<td>(EL)\\n</td>\\n<td>Lithuania\\n</td>\\n<td>(LT)\\n</td>\\n<td>Portugal\\n</td>\\n<td>(PT)\\n</td></tr>\\n<tr>\\n<td>Bulgaria\\n</td>\\n<td>(BG)\\n</td>\\n<td>Spain\\n</td>\\n<td>(ES)\\n</td>\\n<td>Luxembourg\\n</td>\\n<td>(LU)\\n</td>\\n<td>Romania\\n</td>\\n<td>(RO)\\n</td></tr>\\n<tr>\\n<td>Czechia\\n</td>\\n<td>(CZ)\\n</td>\\n<td>France\\n</td>\\n<td>(FR)\\n</td>\\n<td>Hungary\\n</td>\\n<td>(HU)\\n</td>\\n<td>Slovenia\\n</td>\\n<td>(SI)\\n</td></tr>\\n<tr>\\n<td>Denmark\\n</td>\\n<td>(DK)\\n</td>\\n<td>Croatia\\n</td>\\n<td>(HR)\\n</td>\\n<td>Malta\\n</td>\\n<td>(MT)\\n</td>\\n<td>Slovakia\\n</td>\\n<td>(SK)\\n</td></tr>\\n<tr>\\n<td>Germany\\n</td>\\n<td>(DE)\\n</td>\\n<td>Italy\\n</td>\\n<td>(IT)\\n</td>\\n<td>Netherlands\\n</td>\\n<td>(NL)\\n</td>\\n<td>Finland\\n</td>\\n<td>(FI)\\n</td></tr>\\n<tr>\\n<td>Estonia\\n</td>\\n<td>(EE)\\n</td>\\n<td>Cyprus\\n</td>\\n<td>(CY)\\n</td>\\n<td>Austria\\n</td>\\n<td>(AT)\\n</td>\\n<td>Sweden\\n</td>\\n<td>(SE)\\n</td></tr>\\n<tr>\\n<td>Ireland\\n</td>\\n<td>(IE)\\n</td>\\n<td>Latvia\\n</td>\\n<td>(LV)\\n</td>\\n<td>Poland\\n</td>\\n<td>(PL)\\n</td></tr></table>\\n<p><b>United Kingdom</b> \\n</p>\\n<table style=\"background-color: #f5faff; vertical-align: top\" border=\"1\" cellspacing=\"0\" cellpadding=\"2\" width=\"35%\">\\n\\n<tr>\\n<td> United Kingdom\\n</td>\\n<td> (UK)\\n</td>\\n<td>\\n</td></tr></table>\\n<p><b>European Free Trade Association (EFTA)</b> \\n</p>\\n<table style=\"background-color: #f5faff; vertical-align: top\" border=\"1\" cellspacing=\"0\" cellpadding=\"2\" width=\"35%\">\\n\\n<tr>\\n<td> Iceland\\n</td>\\n<td> (IS)\\n</td>\\n<td>\\n</td>\\n<td> Norway\\n</td>\\n<td> (NO)\\n</td></tr>\\n<tr>\\n<td> Liechtenstein\\n</td>\\n<td> (LI)\\n</td>\\n<td>\\n</td>\\n<td> Switzerland\\n</td>\\n<td> (CH)\\n</td></tr></table>\\n<p><b>EU candidate countries</b>  \\n</p>\\n<table style=\"background-color: #f5faff; vertical-align: top\" border=\"1\" cellspacing=\"0\" cellpadding=\"2\" width=\"50%\">\\n\\n<tr>\\n<td> Montenegro\\n</td>\\n<td> (ME)\\n</td></tr>\\n<tr>\\n<td> North Macedonia\\n</td>\\n<td> (MK)\\n</td></tr>\\n<tr>\\n<td> Albania\\n</td>\\n<td> (AL)\\n</td></tr>\\n<tr>\\n<td>Serbia\\n</td>\\n<td> (RS)\\n</td></tr>\\n<tr>\\n<td> Turkey\\n</td>\\n<td> (TR)\\n</td></tr></table>\\n<p><b>Potential candidates (all other Western Balkan countries)</b> \\n</p>\\n<table style=\"background-color: #f5faff; vertical-align: top\" border=\"1\" cellspacing=\"0\" cellpadding=\"2\" width=\"50%\">\\n\\n<tr>\\n<td> Bosnia and Herzegovina\\n</td>\\n<td> (BA)\\n</td></tr>\\n<tr>\\n<td> Kosovo*<sup id=\"cite_ref-1\" class=\"reference\"><a href=\"#cite_note-1\">[1]</a></sup>\\n</td>\\n<td> (XK<sup id=\"cite_ref-2\" class=\"reference\"><a href=\"#cite_note-2\">[2]</a></sup>)\\n</td></tr>\\n</table>\\n<p><b><a href=\"/eurostat/statistics-explained/index.php?title=Glossary:European_Neighbourhood_Policy_(ENP)\" title=\"Glossary:European Neighbourhood Policy (ENP)\">European Neighbourhood Policy (ENP)</a>-East</b> countries: \\n</p>\\n<table style=\"background-color: #f5faff; vertical-align: top\" border=\"1\" cellspacing=\"0\" cellpadding=\"2\" width=\"50%\">\\n\\n<tr>\\n<td> Armenia\\n</td>\\n<td> (AM)\\n</td>\\n<td>\\n</td>\\n<td> Belarus\\n</td>\\n<td> (BY)\\n</td>\\n<td>\\n</td>\\n<td> Georgia\\n</td>\\n<td> (GE)\\n</td></tr>\\n<tr>\\n<td> Azerbaijan\\n</td>\\n<td> (AZ)\\n</td>\\n<td>\\n</td>\\n<td> Moldova\\n</td>\\n<td> (MD)\\n</td>\\n<td>\\n</td>\\n<td> Ukraine\\n</td>\\n<td> (UA)\\n</td></tr></table>\\n<p><b>European Neighbourhood Policy (ENP)-South</b> countries: \\n</p>\\n<table style=\"background-color: #f5faff; vertical-align: top\" border=\"1\" cellspacing=\"0\" cellpadding=\"2\" width=\"50%\">\\n\\n<tr>\\n<td> Algeria\\n</td>\\n<td> (DZ)\\n</td>\\n<td>\\n</td>\\n<td> Lebanon\\n</td>\\n<td> (LB)\\n</td>\\n<td>\\n</td>\\n<td> Syria\\n</td>\\n<td> (SY)\\n</td></tr>\\n<tr>\\n<td> Egypt\\n</td>\\n<td> (EG)\\n</td>\\n<td>\\n</td>\\n<td> Libya\\n</td>\\n<td> (LY)\\n</td>\\n<td>\\n</td>\\n<td> Tunisia\\n</td>\\n<td> (TN)\\n</td></tr>\\n<tr>\\n<td> Israel\\n</td>\\n<td> (IL)\\n</td>\\n<td>\\n</td>\\n<td> Morocco\\n</td>\\n<td> (MA)\\n</td>\\n<td>\\n</td>\\n<td> &#160;\\n</td>\\n<td> &#160;\\n</td></tr>\\n<tr>\\n<td> Jordan\\n</td>\\n<td> (JO)\\n</td>\\n<td>\\n</td>\\n<td> Palestine* <sup id=\"cite_ref-3\" class=\"reference\"><a href=\"#cite_note-3\">[3]</a></sup>\\n</td>\\n<td> (PS)\\n</td>\\n<td>\\n</td>\\n<td> &#160;\\n</td>\\n<td> &#160;\\n</td></tr></table>\\n<p><b>Other European countries</b>\\n</p>\\n<table style=\"background-color: #f5faff; vertical-align: top\" border=\"1\" cellspacing=\"0\" cellpadding=\"2\" width=\"50%\">\\n\\n<tr>\\n<td> Russia\\n</td>\\n<td> (RU)\\n</td></tr></table>\\n<p><b>Non-European countries</b> \\n</p>\\n<table width=\"80%\" cellpadding=\"2\" cellspacing=\"0\" style=\"vertical-align:top;background-color:#f5faff\" border=\"1\">\\n<tr>\\n<td>Argentina\\n</td>\\n<td>(AR)\\n</td>\\n<td>\\n</td>\\n<td>China (except Hong Kong)\\n</td>\\n<td>(CN_X_HK)\\n</td>\\n<td>\\n</td>\\n<td>Mexico\\n</td>\\n<td>(MX)\\n</td>\\n<td>\\n</td>\\n<td>South Africa\\n</td>\\n<td>(ZA)\\n</td></tr>\\n<tr>\\n<td>Australia\\n</td>\\n<td>(AU)\\n</td>\\n<td>\\n</td>\\n<td>Hong Kong\\n</td>\\n<td>(HK)\\n</td>\\n<td>\\n</td>\\n<td>Nigeria\\n</td>\\n<td>(NG)\\n</td>\\n<td>\\n</td>\\n<td>South Korea\\n</td>\\n<td>(KR)\\n</td></tr>\\n<tr>\\n<td>Brazil\\n</td>\\n<td>(BR)\\n</td>\\n<td>\\n</td>\\n<td>India\\n</td>\\n<td>(IN)\\n</td>\\n<td>\\n</td>\\n<td>New Zealand\\n</td>\\n<td>(NZ)\\n</td>\\n<td>\\n</td>\\n<td>Taiwan\\n</td>\\n<td>(TW)\\n</td></tr>\\n<tr>\\n<td>Canada\\n</td>\\n<td>(CA)\\n</td>\\n<td>\\n</td>\\n<td>Japan\\n</td>\\n<td>(JP)\\n</td>\\n<td>\\n</td>\\n<td>Singapore\\n</td>\\n<td>(SG)\\n</td>\\n<td>\\n</td>\\n<td>United States\\n</td>\\n<td>(US)\\n</td></tr></table>\\n<h2><span class=\"mw-headline\" id=\"Further_information\">Further information</span></h2>\\n<ul>\\n<li> <a rel=\"nofollow\" class=\"external text\" href=\"https://ec.europa.eu/neighbourhood-enlargement/countries/detailed-country-information/north-macedonia_en\">DG NEAR web site for North Macedonia</a>\\n</li>\\n<li> <a rel=\"nofollow\" class=\"external text\" href=\"http://ec.europa.eu/enlargement/countries/detailed-country-information/kosovo/index_en.htm\">DG NEAR web site for Kosovo</a>\\n</li>\\n<li> <a rel=\"nofollow\" class=\"external text\" href=\"http://ec.europa.eu/enlargement/neighbourhood/countries/palestine/index_en.htm\">DG NEAR web site for Palestine</a>\\n</li>\\n</ul>\\n<h2><span class=\"mw-headline\" id=\"Related_concepts\">Related concepts</span></h2>\\n<ul>\\n<li><a href=\"/eurostat/statistics-explained/index.php?title=Glossary:Currency_codes\" title=\"Glossary:Currency codes\">Currency codes</a>\\n</li>\\n<li><a href=\"/eurostat/statistics-explained/index.php?title=Glossary:Language_codes\" title=\"Glossary:Language codes\">Language codes</a>\\n</li>\\n</ul>\\n<h2><span class=\"mw-headline\" id=\"External_links\">External links</span></h2>\\n<p><a rel=\"nofollow\" class=\"external text\" href=\"http://publications.europa.eu/code/en/en-000300.htm\">Interinstitutional style guide (Publications Office)</a>\\n</p>\\n<h2><span class=\"mw-headline\" id=\"Notes\">Notes</span></h2>\\n<ol class=\"references\">\\n<li id=\"cite_note-1\"><span class=\"mw-cite-backlink\"><a href=\"#cite_ref-1\">\\xe2\\x86\\x91</a></span> <span class=\"reference-text\">This designation is without prejudice to positions on status, and is in line with UNSCR 1244/1999 and the ICJ Opinion on the Kosovo Declaration of Independence.(with asterisk and footnote in written documents, only the first time that Kosovo is mentioned).</span>\\n</li>\\n<li id=\"cite_note-2\"><span class=\"mw-cite-backlink\"><a href=\"#cite_ref-2\">\\xe2\\x86\\x91</a></span> <span class=\"reference-text\">\\'XK\\' is a code used for practical reasons and not an official ISO country code.</span>\\n</li>\\n<li id=\"cite_note-3\"><span class=\"mw-cite-backlink\"><a href=\"#cite_ref-3\">\\xe2\\x86\\x91</a></span> <span class=\"reference-text\">This designation shall not be\\nconstrued as recognition of a State of Palestine and is without prejudice to the individual\\npositions of the Member States on this issue.</span>\\n</li>\\n</ol>\\n\\n<!-- \\nNewPP limit report\\nCPU time usage: 0.048 seconds\\nReal time usage: 0.060 seconds\\nPreprocessor visited node count: 79/1000000\\nPreprocessor generated node count: 254/1000000\\nPost\\xe2\\x80\\x90expand include size: 0/2097152 bytes\\nTemplate argument size: 0/2097152 bytes\\nHighest expansion depth: 3/40\\nExpensive parser function count: 0/100\\n-->\\n</div><div class=\"printfooter\">\\nRetrieved from \"<a href=\"https://ec.europa.eu/eurostat/statistics-explained/index.php?title=Glossary:Country_codes&amp;oldid=479715\">https://ec.europa.eu/eurostat/statistics-explained/index.php?title=Glossary:Country_codes&amp;oldid=479715</a>\"</div>\\n\\t\\t\\t<div class=\"clearfix\"></div>\\n\\t\\t\\t<div id=\\'catlinks\\' class=\\'catlinks\\'><div id=\"mw-normal-catlinks\" class=\"mw-normal-catlinks\"><a href=\"/eurostat/statistics-explained/index.php?title=Special:Categories\" title=\"Special:Categories\">Categories</a>: <ul><li><a href=\"/eurostat/statistics-explained/index.php?title=Category:Geography_glossary\" title=\"Category:Geography glossary\">Geography glossary</a></li><li><a href=\"/eurostat/statistics-explained/index.php?title=Category:Glossary\" title=\"Category:Glossary\">Glossary</a></li></ul></div></div>\\t\\t\\t<!-- end content -->\\n\\t\\t\\t\\t\\t\\t<div class=\"visualClear\"></div>\\n\\t\\t</div>\\n\\n\\n\\t<!--</div>-->\\n\\t <ul class=\"list-inline footer-nav\">\\n        \\n\\t\\t\\t\\t<li id=\"ca-nstab-glossary\" class=\"selected\"><a href=\"/eurostat/statistics-explained/index.php?title=Glossary:Country_codes\">Glossary</a></li>\\n\\t\\t\\t\\t<li id=\"ca-talk\" class=\"new\"><a href=\"/eurostat/statistics-explained/index.php?title=Glossary_talk:Country_codes&amp;action=edit&amp;redlink=1\" title=\"Discussion about the content page [t]\" accesskey=\"t\">Discussion</a></li>        <li style=\"float:right;\">ISSN 2443-8219</li>\\n              </ul>\\n\\n\\n\\n\\t</div>\\n\\n<!-- END CONTENT-->\\n</div>\\n\\n</div>\\n\\n\\n<!--BEGIN FOOTER-->\\n<div class=\"row page-footer\">\\n\\t<div class=\"col-lg-12 content-col\">\\n<div id=\"footer\" role=\"contentinfo\">\\n\\t<ul id=\"f-list\" class=\"list-inline\">\\n\\t\\t<li id=\"lastmod\"> This page was last modified on 6 May 2020, at 10:30.</li>\\n\\t\\t<li id=\"viewcount\">This page has been accessed 185,240 times.</li>\\n\\t\\t<li id=\"numberofwatchingusers\"><a rel=\"nofollow\" class=\"external text\" href=\"https://ec.europa.eu/eurostat/statistics-explained/index.php?title=Special:WhoIsWatching&amp;ns=Glossary&amp;page=Country_codes\">0 watching users</a></li>\\n\\t\\t<li id=\"privacy\"><a href=\"/eurostat/statistics-explained/index.php?title=Statistics_Explained:Privacy_policy\" title=\"Statistics Explained:Privacy policy\">Privacy policy</a></li>\\n\\t\\t<li id=\"about\"><a href=\"/eurostat/statistics-explained/index.php?title=Statistics_Explained:About\" title=\"Statistics Explained:About\">About Statistics Explained</a></li>\\n\\t\\t<li id=\"disclaimer\"><a href=\"/eurostat/statistics-explained/index.php?title=Statistics_Explained:General_disclaimer\" title=\"Statistics Explained:General disclaimer\">Disclaimers</a></li>\\n\\t</ul>\\n</div></div>\\n\\n<!--END FOOTER-->\\n</div>\\n\\n\\n\\n\\n\\n\\n<!--END PAGE-->\\n</div>\\n<script>/*<![CDATA[*/window.jQuery && jQuery.ready();/*]]>*/</script><script>if(window.mw){\\nmw.loader.state({\"site\":\"loading\",\"user\":\"ready\",\"user.groups\":\"ready\"});\\n}</script>\\n<script src=\"https://ec.europa.eu/eurostat/statistics-explained/load.php?debug=true&amp;lang=en&amp;modules=skins.statexpflat&amp;only=scripts&amp;skin=statexpflat&amp;*\"></script>\\n<script>if(window.mw){\\nmw.loader.load([\"ext.StatexpBPM\",\"ext.StatexpGlossaryToolTip\",\"mediawiki.action.view.postEdit\",\"mediawiki.user\",\"mediawiki.hidpi\",\"mediawiki.page.ready\",\"mediawiki.searchSuggest\",\"ext.cite\",\"ext.EurostatMainPageManagementMainPage\",\"ext.StatexpAnalytics\",\"ext.StatexpContentFormater\"],null,true);\\n}</script>\\n<script type=\"text/javascript\">\\n\\tfunction fillDestFilename(id) {\\n\\tif (!wgUploadAutoFill) {\\n\\t\\treturn;\\n\\t}\\n\\tif (!document.getElementById) {\\n\\t\\treturn;\\n\\t}\\n\\tvar path = document.getElementById(id).value;\\n\\t// Find trailing part\\n\\tvar slash = path.lastIndexOf(\\'/\\');\\n\\tvar backslash = path.lastIndexOf(\\'\\\\\\\\\\');\\n\\tvar fname;\\n\\tif (slash == -1 && backslash == -1) {\\n\\t\\tfname = path;\\n\\t} else if (slash > backslash) {\\n\\t\\tfname = path.substring(slash+1, 10000);\\n\\t} else {\\n\\t\\tfname = path.substring(backslash+1, 10000);\\n\\t}\\n\\n\\t// Capitalise first letter and replace spaces by underscores\\n\\tfname = fname.charAt(0).toUpperCase().concat(fname.substring(1,10000)).replace(/(\\\\u00A0|\\\\u0020)/g, \\'_\\');\\n\\n\\t// Output result\\n\\tvar destFile = document.getElementById(\\'wpDestFile\\');\\n\\tif (destFile) {\\n\\t\\tdestFile.value = fname;\\n\\t\\twgUploadWarningObj.checkNow(fname) ;\\n\\t}\\n}\\n\\n\\t\\n\\t\\n\\t</script>\\n<link rel=\\'stylesheet\\' type=\\'text/css\\' href=\\'/eurostat/statistics-explained/extensions/EurostatStatThemes/EurostatStatThemes.css\\' />\\n<script src=\"https://ec.europa.eu/eurostat/statistics-explained/load.php?debug=true&amp;lang=en&amp;modules=site&amp;only=scripts&amp;skin=statexpflat&amp;*\"></script>\\n<!-- Served in 0.244 secs. --><!-- -->\\n<script src=\"/eurostat/statistics-explained/extensions/StatexpContentFormater/dynamiccharts/l10n/localisations.js\"></script>\\n<script src=\"/eurostat/statistics-explained/extensions/StatexpContentFormater/dynamiccharts/config/config.js\"></script>\\n<script src=\"/eurostat/statistics-explained/extensions/StatexpContentFormater/dynamiccharts/js/vendors.js\"></script>\\n<script src=\"/eurostat/statistics-explained/extensions/StatexpContentFormater/dynamiccharts/js/dynamiccharts.js\"></script>\\n<!-- --\\n<script src=\"/eurostat/statistics-explained/extensions/StatexpContentFormater/dynamiccharts/l10n/localisations.js\"></script>\\n<script src=\"/eurostat/statistics-explained/extensions/StatexpContentFormater/dynamiccharts/config/config.js\"></script>\\n<script src=\"/eurostat/statistics-explained/extensions/StatexpContentFormater/dynamiccharts/dynamiccharts.js\"></script>\\n<script src=\"/eurostat/statistics-explained/extensions/StatexpContentFormater/dynamiccharts/vendor.js\"></script>\\n<!--\\n<script src=\"/eurostat/statistics-explained/extensions/StatexpContentFormater/dynamiccharts/js/dynamiccharts.js\"></script>\\n<script src=\"/eurostat/statistics-explained/extensions/StatexpContentFormater/dynamiccharts/js/vendor.js\"></script>\\n<!-- -->\\n\\n\\n<script>window.twttr = (function(d, s, id) {\\n  var js, fjs = d.getElementsByTagName(s)[0],\\n    t = window.twttr || {};\\n  if (d.getElementById(id)) return t;\\n  js = d.createElement(s);\\n  js.id = id;\\n  js.src = \"https://platform.twitter.com/widgets.js\";\\n  fjs.parentNode.insertBefore(js, fjs);\\n\\n  t._e = [];\\n  t.ready = function(f) {\\n    t._e.push(f);\\n  };\\n\\n  return t;\\n}(document, \"script\", \"twitter-wjs\"));</script>\\n\\n<script defer src=\"//europa.eu/webtools/load.js\" type=\"text/javascript\"></script>\\n<!-- prod-->\\n<script type=\"application/json\">\\n{\\n\"utility\" : \"piwik\",\\n\"siteID\" : 59,\\n\"sitePath\" : [\"ec.europa.eu\\\\/eurostat\"],\\n\"siteSection\": \"Statistics Explained\"\\n}\\n</script>\\n<!-- End Piwik Europa Analytics Code -->\\n\\n</body>\\n</html>'"
      ]
     },
     "execution_count": 17,
     "metadata": {},
     "output_type": "execute_result"
    }
   ],
   "source": [
    "html"
   ]
  },
  {
   "cell_type": "code",
   "execution_count": null,
   "metadata": {},
   "outputs": [],
   "source": [
    "soup = BeautifulSoup(html, 'lxml')\n",
    "countries = soup.find_all('td')\n",
    "countries"
   ]
  }
 ],
 "metadata": {
  "kernelspec": {
   "display_name": "Python 3",
   "language": "python",
   "name": "python3"
  },
  "language_info": {
   "codemirror_mode": {
    "name": "ipython",
    "version": 3
   },
   "file_extension": ".py",
   "mimetype": "text/x-python",
   "name": "python",
   "nbconvert_exporter": "python",
   "pygments_lexer": "ipython3",
   "version": "3.7.3"
  }
 },
 "nbformat": 4,
 "nbformat_minor": 2
}
